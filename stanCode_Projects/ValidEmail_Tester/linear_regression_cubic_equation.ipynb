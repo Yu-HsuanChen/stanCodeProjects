{
 "cells": [
  {
   "cell_type": "code",
   "execution_count": 1,
   "metadata": {},
   "outputs": [],
   "source": [
    "# File: linear_regression_one_varialbe\n",
    "# Name: Joanne\n",
    "# ----------------------------\n",
    "# This file shows the fundamental concepts of \n",
    "# machine learing:\n",
    "#   - loss function\n",
    "#   - cost function\n",
    "#   - linear regression\n",
    "#.  - polynomial features\n",
    "#   - training process"
   ]
  },
  {
   "cell_type": "code",
   "execution_count": 2,
   "metadata": {},
   "outputs": [],
   "source": [
    "import matplotlib.pyplot as plt\n",
    "import numpy as np"
   ]
  },
  {
   "cell_type": "code",
   "execution_count": 3,
   "metadata": {},
   "outputs": [],
   "source": [
    "# This function computes the L2 loss which is \n",
    "# ----------------------------------------\n",
    "# [sum of (hypothesis(x_i) - y_i)^2] / (2*m)\n",
    "# where hypothesis(x_i) == theta1(x_i^3) + theta2(x_i^2) + theta3(x_i) + b\n",
    "# ----------------------------------------\n",
    "# theta1: float, the parameter of x_i^3\n",
    "# theta2: float, the parameter of x_i^2\n",
    "# theta3: float, the parameter of x_i\n",
    "# b     : float, the parameter that controls the amount of line shift\n",
    "# x     : list, containing 21 data points\n",
    "# y     : list, containing 21 data points\n",
    "# return: float, the sum over all L2 losses of data points\n",
    "\n",
    "def cost_function(theta1, theta2, theta3, b, x, y):\n",
    "    return sum((theta1*x[i]**3+theta2*x[i]**2+theta3*x[i]+b-y[i])**2 for i in range(len(x)))/(2*len(x))\n",
    "        "
   ]
  },
  {
   "cell_type": "code",
   "execution_count": 4,
   "metadata": {},
   "outputs": [
    {
     "name": "stdout",
     "output_type": "stream",
     "text": [
      "0.14631688333333334\n"
     ]
    }
   ],
   "source": [
    "# Test for cost_function. You should see 0.14631688333333334\n",
    "print(cost_function(0.1, 0.2, 0.3, -0.5, [0.3, 0.4, 0.5], [0.1, 0.2, 0.3]))"
   ]
  },
  {
   "cell_type": "code",
   "execution_count": 5,
   "metadata": {},
   "outputs": [],
   "source": [
    "def dJ_dtheta1(theta1, theta2, theta3, b, x, y):\n",
    "    return sum((theta1*x[i]**3+theta2*x[i]**2+theta3*x[i]+b-y[i])*x[i]**3 for i in range(len(x)))/len(x)"
   ]
  },
  {
   "cell_type": "code",
   "execution_count": 6,
   "metadata": {},
   "outputs": [
    {
     "name": "stdout",
     "output_type": "stream",
     "text": [
      "-0.040437\n"
     ]
    }
   ],
   "source": [
    "# Test for dJ_dtheta1. You should see -0.040437\n",
    "print(dJ_dtheta1(0.1, 0.2, 0.3, -0.5, [0.3, 0.4, 0.5], [0.1, 0.2, 0.3]))"
   ]
  },
  {
   "cell_type": "code",
   "execution_count": 7,
   "metadata": {},
   "outputs": [],
   "source": [
    "def dJ_dtheta2(theta1, theta2, theta3, b, x, y):\n",
    "    return sum((theta1*x[i]**3+theta2*x[i]**2+theta3*x[i]+b-y[i])*x[i]**2 for i in range(len(x)))/len(x)"
   ]
  },
  {
   "cell_type": "code",
   "execution_count": 8,
   "metadata": {},
   "outputs": [
    {
     "name": "stdout",
     "output_type": "stream",
     "text": [
      "-0.09252266666666666\n"
     ]
    }
   ],
   "source": [
    "# Test for dJ_dtheta2. You should see -0.09252266666666666\n",
    "print(dJ_dtheta2(0.1, 0.2, 0.3, -0.5, [0.3, 0.4, 0.5], [0.1, 0.2, 0.3]))"
   ]
  },
  {
   "cell_type": "code",
   "execution_count": 9,
   "metadata": {},
   "outputs": [],
   "source": [
    "def dJ_dtheta3(theta1, theta2, theta3, b, x, y):\n",
    "    return sum((theta1*x[i]**3+theta2*x[i]**2+theta3*x[i]+b-y[i])*x[i] for i in range(len(x)))/len(x)"
   ]
  },
  {
   "cell_type": "code",
   "execution_count": 10,
   "metadata": {},
   "outputs": [
    {
     "name": "stdout",
     "output_type": "stream",
     "text": [
      "-0.21906\n"
     ]
    }
   ],
   "source": [
    "# Test for dJ_dtheta3. You should see -0.21906\n",
    "print(dJ_dtheta3(0.1, 0.2, 0.3, -0.5, [0.3, 0.4, 0.5], [0.1, 0.2, 0.3]))"
   ]
  },
  {
   "cell_type": "code",
   "execution_count": 11,
   "metadata": {},
   "outputs": [],
   "source": [
    "def dJ_db(theta1, theta2, theta3, b, x, y):\n",
    "    return sum(theta1*x[i]**3+theta2*x[i]**2+theta3*x[i]+b-y[i] for i in range(len(x)))/len(x)"
   ]
  },
  {
   "cell_type": "code",
   "execution_count": 12,
   "metadata": {},
   "outputs": [
    {
     "name": "stdout",
     "output_type": "stream",
     "text": [
      "-0.5394666666666666\n"
     ]
    }
   ],
   "source": [
    "# Test for dJ_db. You should see -0.5394666666666666\n",
    "print(dJ_db(0.1, 0.2, 0.3, -0.5, [0.3, 0.4, 0.5], [0.1, 0.2, 0.3]))"
   ]
  },
  {
   "cell_type": "code",
   "execution_count": 13,
   "metadata": {},
   "outputs": [],
   "source": [
    "# ---------- DO NOT EDIT THE CODE BELOW THIS LINE ---------- #"
   ]
  },
  {
   "cell_type": "code",
   "execution_count": 14,
   "metadata": {},
   "outputs": [],
   "source": [
    "x = [6.1101,5.5277,8.5186,7.0032,5.8598,8.3829,7.4764,8.5781,6.4862,5.0546,5.7107,10.164,5.734,8.4084,5.6407,5.3794,6.3654,5.1301,6.4296,7.0708,6.1891]"
   ]
  },
  {
   "cell_type": "code",
   "execution_count": 15,
   "metadata": {},
   "outputs": [],
   "source": [
    "y = [6.592,9.1302,13.662,11.854,6.8233,11.886,4.3483,12,6.5987,3.8166,3.2522,15.505,3.1551,7.2258,0.71618,3.5129,5.3048,0.56077,3.6518,5.3893,3.1386]"
   ]
  },
  {
   "cell_type": "code",
   "execution_count": 16,
   "metadata": {},
   "outputs": [],
   "source": [
    "# ---------- Showing your data ---------- #"
   ]
  },
  {
   "cell_type": "code",
   "execution_count": 17,
   "metadata": {},
   "outputs": [
    {
     "data": {
      "text/plain": [
       "(0.0, 30.0)"
      ]
     },
     "execution_count": 17,
     "metadata": {},
     "output_type": "execute_result"
    },
    {
     "data": {
      "image/png": "[encoded data removed]",
      "text/plain": [
       "<Figure size 432x288 with 1 Axes>"
      ]
     },
     "metadata": {
      "needs_background": "light"
     },
     "output_type": "display_data"
    }
   ],
   "source": [
    "plt.scatter(x, y)\n",
    "axes = plt.gca()\n",
    "axes.set_xlim([0,12])\n",
    "axes.set_ylim([0,30])"
   ]
  },
  {
   "cell_type": "code",
   "execution_count": 18,
   "metadata": {},
   "outputs": [],
   "source": [
    "# Please perform feature scaling (normalization) by: \n",
    "# subtracting min(x) from each data point and dividing the result with (max(x)-min(x))\n",
    "x = list((x[i]-min(x))/(max(x)-min(x)) for i in range(len(x)))\n",
    "y = list((y[i]-min(y))/(max(y)-min(y)) for i in range(len(y)))"
   ]
  },
  {
   "cell_type": "code",
   "execution_count": 19,
   "metadata": {},
   "outputs": [
    {
     "name": "stdout",
     "output_type": "stream",
     "text": [
      "0.12841038086663803\n",
      "0.18009827204211928\n"
     ]
    }
   ],
   "source": [
    "print(x[10])         # You should see 0.12841038086663803\n",
    "print(y[10])         # You should see 0.18009827204211928"
   ]
  },
  {
   "cell_type": "code",
   "execution_count": 20,
   "metadata": {},
   "outputs": [
    {
     "data": {
      "text/plain": [
       "(0.0, 2.0)"
      ]
     },
     "execution_count": 20,
     "metadata": {},
     "output_type": "execute_result"
    },
    {
     "data": {
      "image/png": "[encoded data removed]",
      "text/plain": [
       "<Figure size 432x288 with 1 Axes>"
      ]
     },
     "metadata": {
      "needs_background": "light"
     },
     "output_type": "display_data"
    }
   ],
   "source": [
    "plt.scatter(x, y)\n",
    "axes = plt.gca()\n",
    "axes.set_xlim([-1,1.5])\n",
    "axes.set_ylim([0,2])"
   ]
  },
  {
   "cell_type": "code",
   "execution_count": 21,
   "metadata": {},
   "outputs": [],
   "source": [
    "# ------------ Initialize your theta ------------ #\n",
    "# -----------  Choose from -1 to +1 ------------ #"
   ]
  },
  {
   "cell_type": "code",
   "execution_count": 22,
   "metadata": {},
   "outputs": [],
   "source": [
    "theta1 = 0.1\n",
    "theta2 = 0.1\n",
    "theta3 = 0.6\n",
    "b = 0.15\n"
   ]
  },
  {
   "cell_type": "code",
   "execution_count": 23,
   "metadata": {},
   "outputs": [],
   "source": [
    "# ---------- Initialize your alpha ---------- #"
   ]
  },
  {
   "cell_type": "code",
   "execution_count": 24,
   "metadata": {},
   "outputs": [],
   "source": [
    "# TODO: which value is appropriate for alpha?\n",
    "# Try 0.001, 0.01, 0.1"
   ]
  },
  {
   "cell_type": "code",
   "execution_count": 25,
   "metadata": {},
   "outputs": [],
   "source": [
    "alpha = 0.1"
   ]
  },
  {
   "cell_type": "code",
   "execution_count": 26,
   "metadata": {},
   "outputs": [],
   "source": [
    "# ---------- Training process ---------- #\n",
    "# ---- 50 iterations over all data ----- # "
   ]
  },
  {
   "cell_type": "code",
   "execution_count": 27,
   "metadata": {},
   "outputs": [],
   "source": [
    "# Remember to append updated theta1, theta2, theta3, b, and cost.\n",
    "\n",
    "theta1_history = []\n",
    "theta2_history = []\n",
    "theta3_history = []\n",
    "b_history = []\n",
    "cost_history = []\n",
    "for i in range(50):\n",
    "    theta1_history.append(theta1)\n",
    "    theta2_history.append(theta2)\n",
    "    theta3_history.append(theta3)\n",
    "    b_history.append(b)\n",
    "    \n",
    "    cost = cost_function(theta1, theta2, theta3, b, x, y)\n",
    "    cost_history.append(cost)\n",
    "    \n",
    "    #G.D\n",
    "    theta1 = theta1 - alpha * dJ_dtheta1(theta1, theta2, theta3, b, x, y)\n",
    "    theta2 = theta2 - alpha * dJ_dtheta2(theta1, theta2, theta3, b, x, y)\n",
    "    theta3 = theta3 - alpha * dJ_dtheta3(theta1, theta2, theta3, b, x, y)\n",
    "    b = b - alpha * dJ_db(theta1, theta2, theta3, b, x, y)\n"
   ]
  },
  {
   "cell_type": "code",
   "execution_count": 28,
   "metadata": {},
   "outputs": [],
   "source": [
    "# ---------- Cost changes during training process ---------- #"
   ]
  },
  {
   "cell_type": "code",
   "execution_count": 29,
   "metadata": {},
   "outputs": [
    {
     "name": "stdout",
     "output_type": "stream",
     "text": [
      "[0.014249936182932002, 0.014151768504442728, 0.014074268709938267, 0.014012960365528007, 0.013964341149846552, 0.013925670647394198, 0.01389480438926639, 0.013870064060194304, 0.013850135988571932, 0.01383399175473758, 0.013820826096681074, 0.013810008343256939, 0.013801044426779083, 0.013793547169507033, 0.013787213041069609, 0.013781803976853338, 0.013777133154694934, 0.013773053867537851, 0.01376945081764648, 0.01376623330493953, 0.013763329896937147, 0.013760684257698002, 0.013758251883414077, 0.013755997547302747, 0.013753893299427373, 0.013751916900700708, 0.013750050596621242, 0.0137482801568598, 0.013746594122898673, 0.013744983218507586, 0.013743439887680934, 0.013741957932358571, 0.0137405322282732, 0.013739158501977404, 0.01373783315578804, 0.013736553130267953, 0.01373531579612037, 0.013734118869135614, 0.013732960343210535, 0.013731838437541293, 0.01373075155493574, 0.013729698248853218, 0.013728677197297715, 0.013727687182095615, 0.013726727072406882, 0.013725795811566997, 0.013724892406551654, 0.013724015919508736, 0.013723165460921635, 0.013722340184061342]\n"
     ]
    }
   ],
   "source": [
    "# Pay attention to the trend of cost. \n",
    "# Is it rising? If it is, why?\n",
    "\n",
    "print(cost_history)"
   ]
  },
  {
   "cell_type": "code",
   "execution_count": 30,
   "metadata": {},
   "outputs": [],
   "source": [
    "# ---------------------------- Please do not modify codes below this line ---------------------------- #"
   ]
  },
  {
   "cell_type": "code",
   "execution_count": 31,
   "metadata": {},
   "outputs": [
    {
     "name": "stdout",
     "output_type": "stream",
     "text": [
      "theta1: 0.1, theta2: 0.1, theta3: 0.6, b: 0.15\n"
     ]
    },
    {
     "data": {
      "image/png": "[encoded data removed]",
      "text/plain": [
       "<Figure size 432x288 with 1 Axes>"
      ]
     },
     "metadata": {
      "needs_background": "light"
     },
     "output_type": "display_data"
    }
   ],
   "source": [
    "theta1 = theta1_history[0]\n",
    "theta2 = theta2_history[0]\n",
    "theta3 = theta3_history[0]\n",
    "b = b_history[0]\n",
    "\n",
    "print(f'theta1: {theta1}, theta2: {theta2}, theta3: {theta3}, b: {b}')\n",
    "\n",
    "x_plot = np.linspace(-0.25, 1.25, 100)\n",
    "y_plot = theta1*(x_plot**3)+theta2*(x_plot**2)+theta3*(x_plot)+b\n",
    "\n",
    "\n",
    "plt.scatter(x_plot, y_plot, color='red')\n",
    "plt.scatter(x, y, color='blue')\n",
    "\n",
    "\n",
    "# show the plot\n",
    "plt.title(\"1 iterations\", color='red', fontdict = {'fontsize': 20})\n",
    "plt.show()"
   ]
  },
  {
   "cell_type": "code",
   "execution_count": 32,
   "metadata": {},
   "outputs": [
    {
     "name": "stdout",
     "output_type": "stream",
     "text": [
      "theta1: 0.10483274951833914, theta2: 0.1063489756181895, theta3: 0.6090094491902018, b: 0.16448916038918723\n"
     ]
    },
    {
     "data": {
      "image/png": "[encoded data removed]",
      "text/plain": [
       "<Figure size 432x288 with 1 Axes>"
      ]
     },
     "metadata": {
      "needs_background": "light"
     },
     "output_type": "display_data"
    }
   ],
   "source": [
    "theta1 = theta1_history[9]\n",
    "theta2 = theta2_history[9]\n",
    "theta3 = theta3_history[9]\n",
    "b = b_history[9]\n",
    "\n",
    "print(f'theta1: {theta1}, theta2: {theta2}, theta3: {theta3}, b: {b}')\n",
    "\n",
    "x_plot = np.linspace(-0.25, 1.25, 100)\n",
    "y_plot = theta1*(x_plot**3)+theta2*(x_plot**2)+theta3*(x_plot)+b\n",
    "\n",
    "\n",
    "plt.scatter(x_plot, y_plot, color='red')\n",
    "plt.scatter(x, y, color='blue')\n",
    "\n",
    "\n",
    "# show the plot\n",
    "plt.title(\"10 iterations\", color='red', fontdict = {'fontsize': 20})\n",
    "plt.show()"
   ]
  },
  {
   "cell_type": "code",
   "execution_count": 33,
   "metadata": {},
   "outputs": [
    {
     "name": "stdout",
     "output_type": "stream",
     "text": [
      "theta1: 0.10786672190167337, theta2: 0.11026461036129744, theta3: 0.6139885569197242, b: 0.16833127836934197\n"
     ]
    },
    {
     "data": {
      "image/png": "[encoded data removed]",
      "text/plain": [
       "<Figure size 432x288 with 1 Axes>"
      ]
     },
     "metadata": {
      "needs_background": "light"
     },
     "output_type": "display_data"
    }
   ],
   "source": [
    "theta1 = theta1_history[19]\n",
    "theta2 = theta2_history[19]\n",
    "theta3 = theta3_history[19]\n",
    "b = b_history[19]\n",
    "\n",
    "print(f'theta1: {theta1}, theta2: {theta2}, theta3: {theta3}, b: {b}')\n",
    "\n",
    "x_plot = np.linspace(-0.25, 1.25, 100)\n",
    "y_plot = theta1*(x_plot**3)+theta2*(x_plot**2)+theta3*(x_plot)+b\n",
    "\n",
    "\n",
    "plt.scatter(x_plot, y_plot, color='red')\n",
    "plt.scatter(x, y, color='blue')\n",
    "\n",
    "\n",
    "# show the plot\n",
    "plt.title(\"20 iterations\", color='red', fontdict = {'fontsize': 20})\n",
    "plt.show()"
   ]
  },
  {
   "cell_type": "code",
   "execution_count": 34,
   "metadata": {},
   "outputs": [],
   "source": [
    "# ---------- Plot the errors over the training process ---------- #"
   ]
  },
  {
   "cell_type": "code",
   "execution_count": 35,
   "metadata": {},
   "outputs": [
    {
     "name": "stdout",
     "output_type": "stream",
     "text": [
      "theta1: 0.10991791659371411, theta2: 0.11291760098328256, theta3: 0.6171028666296231, b: 0.1683614844923378\n"
     ]
    },
    {
     "data": {
      "image/png": "[encoded data removed]",
      "text/plain": [
       "<Figure size 432x288 with 1 Axes>"
      ]
     },
     "metadata": {
      "needs_background": "light"
     },
     "output_type": "display_data"
    }
   ],
   "source": [
    "theta1 = theta1_history[29]\n",
    "theta2 = theta2_history[29]\n",
    "theta3 = theta3_history[29]\n",
    "b = b_history[29]\n",
    "\n",
    "print(f'theta1: {theta1}, theta2: {theta2}, theta3: {theta3}, b: {b}')\n",
    "\n",
    "x_plot = np.linspace(-0.25, 1.25, 100)\n",
    "y_plot = theta1*(x_plot**3)+theta2*(x_plot**2)+theta3*(x_plot)+b\n",
    "\n",
    "\n",
    "plt.scatter(x_plot, y_plot, color='red')\n",
    "plt.scatter(x, y, color='blue')\n",
    "\n",
    "\n",
    "# show the plot\n",
    "plt.title(\"30 iterations\", color='red', fontdict = {'fontsize': 20})\n",
    "plt.show()"
   ]
  },
  {
   "cell_type": "code",
   "execution_count": 36,
   "metadata": {},
   "outputs": [
    {
     "name": "stdout",
     "output_type": "stream",
     "text": [
      "theta1: 0.11148432318154734, theta2: 0.11498698252876514, theta3: 0.6194682147936064, b: 0.1674258221591437\n"
     ]
    },
    {
     "data": {
      "image/png": "[encoded data removed]",
      "text/plain": [
       "<Figure size 432x288 with 1 Axes>"
      ]
     },
     "metadata": {
      "needs_background": "light"
     },
     "output_type": "display_data"
    }
   ],
   "source": [
    "theta1 = theta1_history[39]\n",
    "theta2 = theta2_history[39]\n",
    "theta3 = theta3_history[39]\n",
    "b = b_history[39]\n",
    "\n",
    "print(f'theta1: {theta1}, theta2: {theta2}, theta3: {theta3}, b: {b}')\n",
    "\n",
    "x_plot = np.linspace(-0.25, 1.25, 100)\n",
    "y_plot = theta1*(x_plot**3)+theta2*(x_plot**2)+theta3*(x_plot)+b\n",
    "\n",
    "\n",
    "plt.scatter(x_plot, y_plot, color='red')\n",
    "plt.scatter(x, y, color='blue')\n",
    "\n",
    "\n",
    "# show the plot\n",
    "plt.title(\"40 iterations\", color='red', fontdict = {'fontsize': 20})\n",
    "plt.show()"
   ]
  },
  {
   "cell_type": "code",
   "execution_count": 37,
   "metadata": {},
   "outputs": [
    {
     "data": {
      "text/plain": [
       "Text(0.5, 1.0, 'Errors over iterations')"
      ]
     },
     "execution_count": 37,
     "metadata": {},
     "output_type": "execute_result"
    },
    {
     "data": {
      "image/png": "[encoded data removed]",
      "text/plain": [
       "<Figure size 432x288 with 1 Axes>"
      ]
     },
     "metadata": {
      "needs_background": "light"
     },
     "output_type": "display_data"
    }
   ],
   "source": [
    "cost_x = list(range(len(cost_history)))\n",
    "cost_y = cost_history\n",
    "plt.plot(cost_x, cost_y)\n",
    "plt.title(\"Errors over iterations\", color = 'blue')"
   ]
  },
  {
   "cell_type": "code",
   "execution_count": null,
   "metadata": {},
   "outputs": [],
   "source": []
  },
  {
   "cell_type": "code",
   "execution_count": null,
   "metadata": {},
   "outputs": [],
   "source": []
  }
 ],
 "metadata": {
  "kernelspec": {
   "display_name": "Python 3",
   "language": "python",
   "name": "python3"
  },
  "language_info": {
   "codemirror_mode": {
    "name": "ipython",
    "version": 3
   },
   "file_extension": ".py",
   "mimetype": "text/x-python",
   "name": "python",
   "nbconvert_exporter": "python",
   "pygments_lexer": "ipython3",
   "version": "3.8.8"
  }
 },
 "nbformat": 4,
 "nbformat_minor": 4
}
